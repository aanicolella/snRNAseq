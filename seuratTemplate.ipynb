{
 "cells": [
  {
   "cell_type": "code",
   "execution_count": null,
   "metadata": {},
   "outputs": [],
   "source": [
    "# This analysis template was built based on the Seurat \"Guided Clustering Tutorial\" \n",
    "# (https://satijalab.org/seurat/articles/pbmc3k_tutorial.html)\n",
    "    # Please consult the tutorial if any of the documentation is unclear\n",
    "    # If the tutorial does not answer your question, please email me (Ally) \n",
    "    # at anicolel@broadinstitute.org"
   ]
  },
  {
   "cell_type": "code",
   "execution_count": null,
   "metadata": {},
   "outputs": [],
   "source": [
    "# Install Seurat if it is not already installed\n",
    "install.packages('Seurat')\n",
    "library(Seurat)"
   ]
  },
  {
   "cell_type": "code",
   "execution_count": null,
   "metadata": {
    "scrolled": true
   },
   "outputs": [],
   "source": [
    "# Load required libraries\n",
    "library(dplyr)\n",
    "library(Seurat)\n",
    "library(patchwork)\n",
    "library(Matrix)\n",
    "library(ggplot2)\n",
    "library(RColorBrewer)"
   ]
  },
  {
   "cell_type": "code",
   "execution_count": null,
   "metadata": {},
   "outputs": [],
   "source": [
    "# Pick one of the below data loading cells, depending on what form of \n",
    "# the data you are starting from\n",
    "\n",
    "# No Preprocessing: start from CellRanger count output\n",
    "    # Replace the data.dir paths with the paths to your data\n",
    "    # Replace the \"samp1\", \"samp2\", etc with the names of your data (i.e. \"PFC-HT1\")\n",
    "    # Replace \"projectName\" with the name of your project (i.e. \"geneX-brainRegion\")\n",
    "\n",
    "samp1 <- \"samp1\"\n",
    "samp1.data <- Read10X(data.dir=\"parentDir/data/mkfastq/projectName-samp1/projectName-samp1/outs/filtered_feature_bc_matrix/\")\n",
    "samp1 <- CreateSeuratObject(counts=samp1.data, project = \"projectName_samp1\", min.cells = 3, min.features =200)\n",
    "samp2 <- \"samp2\"\n",
    "samp2.data <- Read10X(data.dir=\"parentDir/data/mkfastq/projectName-samp2/projectName-samp2/outs/filtered_feature_bc_matrix/\")\n",
    "samp2 <- CreateSeuratObject(counts=samp2.data, project = \"projectName_samp2\", min.cells = 3, min.features =200)\n",
    "samp3 <- \"samp3\"\n",
    "samp3.data <- Read10X(data.dir=\"parentDir/data/mkfastq/projectName-samp3/projectName-samp3/outs/filtered_feature_bc_matrix/\")\n",
    "samp3 <- CreateSeuratObject(counts=samp3.data, project = \"projectName_samp3\", min.cells = 3, min.features =200)\n",
    "\n",
    "# Merge samples into one Seurat object\n",
    "object <- merge(samp1, y=c(samp2,samp3), add.cell.ids=c(\"samp1\",\"samp2\",\"samp3\"), project=\"projectName\")\n",
    "object\n",
    "head(object@meta.data)\n",
    "\n",
    "# Add genotype to the metadata\n",
    "    # put your sample names (called \"orig.ident\") in the from list and the genotypes of \n",
    "    # each sample in the to list\n",
    "model <- plyr::mapvalues(\n",
    "    x = object@meta.data$orig.ident, \n",
    "    from = c(\"samp1\", \"samp2\", \"samp3\"), \n",
    "    to = c(\"HT\", \"KO\", \"WT\")\n",
    ")\n",
    "head(model)\n",
    "object@meta.data$model <- model\n",
    "head(object@meta.data)"
   ]
  },
  {
   "cell_type": "code",
   "execution_count": null,
   "metadata": {},
   "outputs": [],
   "source": [
    "# Downsampling: start from CellRanger aggr output\n",
    "\n",
    "object <- \"projectName\"\n",
    "object.data <- Read10X(data.dir=\"parentDir/data/aggr/projectName/outs/filtered_feature_bc_matrix/\")\n",
    "object <- CreateSeuratObject(counts=object.data, project = \"projectName\", min.cells = 3, min.features =200)\n",
    "\n",
    "# Extract barcodes from cell names for sample mapping\n",
    "\n",
    "barcodes <- row.names(object@meta.data)\n",
    "nums <- read.table(text=barcodes, sep=\"-\")\n",
    "head(nums)\n",
    "\n",
    "# Map barcode numbers to sample names & genotypes to samples\n",
    "\n",
    "sampleName <- plyr::mapvalues(\n",
    "    x = nums$V2, \n",
    "    from = c(1,2,3), \n",
    "    to = c(\"samp1\",\"samp2\",\"samp3\")\n",
    ")\n",
    "head(sampleName)\n",
    "\n",
    "# Add genotype to the metadata\n",
    "    # put your sample names (called \"orig.ident\") in the from list and the genotypes of \n",
    "    # each sample in the to list\n",
    "model <- plyr::mapvalues(\n",
    "    x = object@meta.data$orig.ident, \n",
    "    from = c(\"samp1\", \"samp2\", \"samp3\"), \n",
    "    to = c(\"HT\", \"KO\", \"WT\")\n",
    ")\n",
    "head(model)\n",
    "\n",
    "object@meta.data$orig.ident <- sampleName\n",
    "object@meta.data$model <- model\n",
    "head(object@meta.data)"
   ]
  },
  {
   "cell_type": "code",
   "execution_count": null,
   "metadata": {},
   "outputs": [],
   "source": [
    "# Ambient Removal: start with CellBender output\n",
    "    # Replace the filename paths with the paths to each sample's filtered.h5 file\n",
    "    # Replace the \"samp1\", \"samp2\", etc with the names of your data (i.e. \"PFC-HT1\")\n",
    "    # Replace \"projectName\" with the name of your project (i.e. \"geneX-brainRegion\")\n",
    "\n",
    "samp1 <- \"samp1\"\n",
    "samp1.data <- Read10X_h5(filename=\"parentDir/data/ambientRNA/SAMPLE1/SAMPLE1.results_filtered.h5\", use.names=TRUE)\n",
    "samp2 <- \"samp2\"\n",
    "samp2.data <- Read10X_h5(filename=\"parentDir/data/ambientRNA/SAMPLE2/SAMPLE2.results_filtered.h5\", use.names=TRUE)\n",
    "samp3 <- \"samp3\"\n",
    "samp3.data <- Read10X_h5(filename=\"parentDir/data/ambientRNA/sample3/sample3.results_filtered.h5\", use.names=TRUE)\n",
    "\n",
    "object <- merge(samp1, y=c(samp2,samp3), add.cell.ids=c(\"samp1\",\"samp2\",\"samp3\"), project=\"projectName\")\n",
    "object\n",
    "head(object@meta.data)\n",
    "\n",
    "# Add genotype to the metadata\n",
    "    # put your sample names (called \"orig.ident\") in the from list and the genotypes of \n",
    "    # each sample in the to list\n",
    "model <- plyr::mapvalues(\n",
    "    x = object@meta.data$orig.ident, \n",
    "    from = c(\"samp1\", \"samp2\", \"samp3\"), \n",
    "    to = c(\"HT\", \"KO\", \"WT\")\n",
    ")\n",
    "head(model)\n",
    "object@meta.data$model <- model\n",
    "head(object@meta.data)"
   ]
  },
  {
   "cell_type": "code",
   "execution_count": null,
   "metadata": {},
   "outputs": [],
   "source": [
    "# Checkpoint 1: save merged raw data\n",
    "\n",
    "#saveRDS(object, \"project_aggrObject_DATE.rds\")\n",
    "object <- readRDS(\"project_aggrObject_DATE.rds\")"
   ]
  },
  {
   "cell_type": "code",
   "execution_count": null,
   "metadata": {},
   "outputs": [],
   "source": [
    "# Reassign sample names as replicate name\n",
    "as.data.frame(table(object@meta.data$orig.ident))\n",
    "as.data.frame(table(object@meta.data$model))\n",
    "Idents(object) <- object@meta.data$orig.ident"
   ]
  },
  {
   "cell_type": "code",
   "execution_count": null,
   "metadata": {},
   "outputs": [],
   "source": [
    "# Visualize QC metrics as violin plot\n",
    "VlnPlot(object, features = c(\"nFeature_RNA\", \"nCount_RNA\"), ncol=2, pt.size=0)"
   ]
  },
  {
   "cell_type": "code",
   "execution_count": null,
   "metadata": {},
   "outputs": [],
   "source": [
    "# Filter out cells with too few features \n",
    "    # Further filtering may be necessary depending on what your data looks like\n",
    "object <- subset(object, subset = nFeature_RNA > 500)\n",
    "# Normalizing data\n",
    "object <- NormalizeData(object, normalization.method = \"LogNormalize\", scale.factor = 10000)\n",
    "# Post filtering, normalization violin plot of QC metrics\n",
    "VlnPlot(object, features = c(\"nFeature_RNA\", \"nCount_RNA\"), ncol=2, pt.size=0)"
   ]
  },
  {
   "cell_type": "code",
   "execution_count": null,
   "metadata": {
    "scrolled": true
   },
   "outputs": [],
   "source": [
    "# Feature selection (via identification of highly variable features)\n",
    "object <- FindVariableFeatures(object, selection.method = \"vst\", nfeatures = 2000)\n",
    "\n",
    "# Top ten most highly variable genes\n",
    "top10 <- head(VariableFeatures(object), 10)\n",
    "top10\n",
    "\n",
    "# plot variable features with/without labels\n",
    "plot1 <- VariableFeaturePlot(object)\n",
    "plot2 <- LabelPoints(plot=plot1, points = top10, xnudge=0, repel=TRUE)\n",
    "plot1\n",
    "plot2"
   ]
  },
  {
   "cell_type": "code",
   "execution_count": null,
   "metadata": {},
   "outputs": [],
   "source": [
    "# Scaling data\n",
    "    # linear transformation (scaling): preprocessing step prior to dimension reduction\n",
    "object <- ScaleData(object, features = VariableFeatures(object=object))"
   ]
  },
  {
   "cell_type": "code",
   "execution_count": null,
   "metadata": {},
   "outputs": [],
   "source": [
    "# Linear Dimensional Reduction (using PCA)\n",
    "    # Don't know what PCA is? Read this: https://towardsdatascience.com/a-one-stop-shop-for-principal-component-analysis-5582fb7e0a9c\n",
    "object <- RunPCA(object, features = VariableFeatures(object=object))\n",
    "\n",
    "# Look at just top 5 genes for each principle component (PC)\n",
    "print(object[[\"pca\"]], dims= 1:5, nfeatures = 5)\n",
    "\n",
    "VizDimLoadings(object, dims = 1:2, reduction=\"pca\")\n",
    "\n",
    "# Look at the PCA visualization colored by genotype and replicate\n",
    "DimPlot(object, reduction=\"pca\", group.by=\"model\")\n",
    "DimPlot(object, reduction=\"pca\")\n",
    "ElbowPlot(object)"
   ]
  },
  {
   "cell_type": "code",
   "execution_count": null,
   "metadata": {},
   "outputs": [],
   "source": [
    "# Save the PCA plots\n",
    "    # make sure you have made a \"plots\" directory\n",
    "    # replace \"project\" and \"date\" to reflect your project and the current date\n",
    "pdf(\"plots/project_pcaBySample_date.pdf\")\n",
    "DimPlot(object, reduction=\"pca\")\n",
    "dev.off()\n",
    "\n",
    "pdf(\"plots/project_pcaByGenotype_date.pdf\")\n",
    "DimPlot(object, reduction=\"pca\", group.by=\"model\")\n",
    "dev.off()"
   ]
  },
  {
   "cell_type": "code",
   "execution_count": null,
   "metadata": {
    "scrolled": true
   },
   "outputs": [],
   "source": [
    "# Cluster Cells\n",
    "    # This uses a graph-based clustering approach, built upon the strategies in this paper:\n",
    "    # https://www.cell.com/fulltext/S0092-8674(15)00549-8\n",
    "    # Reference the Seurat \"Guided Clustering Tutorial\" for further explanation of this method\n",
    "\n",
    "    # Replace \"X\" with the PC number that is the \"elbow\" in the ElbowPlot two cells above\n",
    "        # consult the Seurat tutorial if you do not know what this means\n",
    "    # Replace \"Y\" with your desired resolution (consult the Seurat tutorial if you do not know what this means)\n",
    "object <- FindNeighbors(object, dims=1:X)\n",
    "object <- FindClusters(object, resolution = Y)\n",
    "\n",
    "# Run non-linear dimension reduction (UMAP/tSNE)\n",
    "    # Don't know what UMAP or tSNE are? Read this: https://towardsdatascience.com/how-exactly-umap-works-13e3040e1668\n",
    "object <- RunUMAP(object, dims=1:X)"
   ]
  },
  {
   "cell_type": "code",
   "execution_count": null,
   "metadata": {
    "scrolled": true
   },
   "outputs": [],
   "source": [
    "# Look at UMAP clusters before running doublet identification\n",
    "\n",
    "DimPlot(object, reduction=\"umap\", label=TRUE)\n",
    "DimPlot(object, reduction=\"umap\", group.by=\"model\")\n",
    "DimPlot(object, reduction=\"umap\", group.by=\"orig.ident\")"
   ]
  },
  {
   "cell_type": "code",
   "execution_count": null,
   "metadata": {},
   "outputs": [],
   "source": [
    "# Write counts to matrix for double removal\n",
    "\n",
    "writeMM(object@assays$RNA@counts,\"counts.txt\")\n",
    "# Stop here to run RunScrublet.py\n",
    "    # Use the below commands to run this script. Please note, you must install Scrublet \n",
    "    # (preferably in a conda environment) before running the script.\n",
    "        # $ use Anaconda3 \n",
    "        # $ source activate Scrublet_environment\n",
    "        # $ python RunScrublet.py counts.txt output.txt"
   ]
  },
  {
   "cell_type": "code",
   "execution_count": null,
   "metadata": {},
   "outputs": [],
   "source": [
    "# Import scrublet results, add to metadata and look at score distribution\n",
    "\n",
    "object@meta.data[\"scrublet\"] = scan(\"output.txt\")\n",
    "hist(object@meta.data$scrublet, col=\"gray\")"
   ]
  },
  {
   "cell_type": "code",
   "execution_count": null,
   "metadata": {},
   "outputs": [],
   "source": [
    "# Assign doublet label to cells above scrublet score threshhold\n",
    "    # Adjust THRESHOLD depending on the score distribution \n",
    "object@meta.data[\"doublet\"]=\"singlet\"\n",
    "object@meta.data[object@meta.data[,\"scrublet\"]>THRESHOLD,\"doublet\"]=\"doublet\""
   ]
  },
  {
   "cell_type": "code",
   "execution_count": null,
   "metadata": {
    "scrolled": true
   },
   "outputs": [],
   "source": [
    "# Assess number of doublets and their distribution\n",
    "    # make sure you create a \"dataCleaning\" directory to hold the plots below\n",
    "\n",
    "table(object@meta.data$doublet)\n",
    "table(object@meta.data$orig.ident)\n",
    "FeaturePlot(object, features=\"scrublet\")\n",
    "pdf(\"plots/dataCleaning/doublets.pdf\")\n",
    "FeaturePlot(object, features=\"scrublet\")\n",
    "dev.off()\n",
    "pdf(\"plots/dataCleaning/labeledDoublets.pdf\")\n",
    "FeaturePlot(object, features=\"scrublet\", label=TRUE)\n",
    "dev.off()"
   ]
  },
  {
   "cell_type": "code",
   "execution_count": null,
   "metadata": {
    "scrolled": true
   },
   "outputs": [],
   "source": [
    "# Sanity check: see if clusters with high % doublets coexpress markers for multiple cell types\n",
    "FeaturePlot(object, features = c(\"Gad1\"), label=TRUE) # Inhibitory Neurons\n",
    "FeaturePlot(object, features = c(\"Slc17a7\"), label=TRUE) # Excitatory Neurons\n",
    "FeaturePlot(object, features = c(\"Csf1r\"), label=TRUE) # Microglia\n",
    "FeaturePlot(object, features = c(\"Pdgfra\"), label=TRUE) # OPC\n",
    "FeaturePlot(object, features = c(\"Plp1\"), label=TRUE) # ODC\n",
    "FeaturePlot(object, features = c(\"Slc1a3\"), label=TRUE) # Astrocytes\n",
    "FeaturePlot(object, features = c(\"Flt1\"), label=TRUE) # Endothelial\n",
    "FeaturePlot(object, features = c(\"Bgn\"), label=TRUE) # Other Vascular\n",
    "FeaturePlot(object, features = c(\"Bnc2\"), label=TRUE) # Fibroblast"
   ]
  },
  {
   "cell_type": "code",
   "execution_count": null,
   "metadata": {},
   "outputs": [],
   "source": [
    "# Label small clusters with high % doublets and remove them\n",
    "    # open the plots created above and see which clusters have a high frequency of \n",
    "    # high doublet scores. Put the cluster numbers in the list below \n",
    "    # (must be formatted as a list of strings i.e. c(\"17\",\"18\",\"20\"))\n",
    "doublet_clusters <- c()\n",
    "object@meta.data[object@active.ident %in% doublet_clusters,\"doublet\"]=\"doublet\"\n",
    "# Check that you have the doublet clusters properly identified before removal\n",
    "DimPlot(object, reduction=\"umap\", group.by=\"doublet\")\n",
    "pdf(\"plots/dataCleaning/doubletClassFinal.pdf\")\n",
    "DimPlot(object, reduction=\"umap\", group.by=\"doublet\")\n",
    "dev.off()"
   ]
  },
  {
   "cell_type": "code",
   "execution_count": null,
   "metadata": {},
   "outputs": [],
   "source": [
    "# Remove clusters labeled as doublet clusters above\n",
    "object=subset(object,doublet==\"singlet\")"
   ]
  },
  {
   "cell_type": "code",
   "execution_count": null,
   "metadata": {},
   "outputs": [],
   "source": [
    "# Check removed clusters to make sure you removed all needed clusters\n",
    "pdf(\"plots/dataCleaning/removedDoublets.pdf\")\n",
    "FeaturePlot(object, features=\"scrublet\")\n",
    "dev.off()\n",
    "pdf(\"plots/dataCleaning/labeledremovedDoublets.pdf\")\n",
    "FeaturePlot(object, features=\"scrublet\", label=TRUE)\n",
    "dev.off()"
   ]
  },
  {
   "cell_type": "code",
   "execution_count": null,
   "metadata": {},
   "outputs": [],
   "source": [
    "# Checkpoint 2: Pre-labeled object with doublets removed\n",
    "    # Replace \"project\" and \"date\" to reflect your project name and the date\n",
    "saveRDS(object, \"project_preLabel_date.rds\")\n",
    "#object <- readRDS(\"project_preLabel_date.rds\")"
   ]
  },
  {
   "cell_type": "code",
   "execution_count": null,
   "metadata": {},
   "outputs": [],
   "source": [
    "# Evaluate cell type markers and determine cluster cell types\n",
    "    # Note which cluster numbers express which cell types' marker genes\n",
    "        # Clusters with high expression of the marker genes for a cell type will be \n",
    "        # assigned that cell type's label\n",
    "    # This template only includes markers for the major cell types found in neuronal data. You\n",
    "        # may add additional code cells for your own cell types of interest. \n",
    "\n",
    "DimPlot(object, reduction=\"umap\", label=TRUE)\n",
    "DimPlot(object, reduction=\"umap\", label=TRUE) + NoLegend()"
   ]
  },
  {
   "cell_type": "code",
   "execution_count": null,
   "metadata": {},
   "outputs": [],
   "source": [
    "# neurons (Excitory and inhibitory) - \n",
    "FeaturePlot(object, features = c(\"Snap25\"), label=TRUE)\n",
    "FeaturePlot(object, features = c(\"Rbfox3\"), label=TRUE)"
   ]
  },
  {
   "cell_type": "code",
   "execution_count": null,
   "metadata": {},
   "outputs": [],
   "source": [
    "# Inhibitory Neurons- \n",
    "FeaturePlot(object, features = c(\"Gad1\"), label=TRUE)\n",
    "FeaturePlot(object, features = c(\"Gad2\"), label=TRUE)"
   ]
  },
  {
   "cell_type": "code",
   "execution_count": null,
   "metadata": {},
   "outputs": [],
   "source": [
    "# Excitatory neurons- \n",
    "FeaturePlot(object, features = c(\"Slc17a6\"), label=TRUE)\n",
    "FeaturePlot(object, features = c(\"Slc17a7\"), label=TRUE)\n",
    "FeaturePlot(object, features = c(\"Neurod6\"), label=TRUE)"
   ]
  },
  {
   "cell_type": "code",
   "execution_count": null,
   "metadata": {},
   "outputs": [],
   "source": [
    "# Microglia - \n",
    "FeaturePlot(object, features = c(\"Csf1r\"), label=TRUE)"
   ]
  },
  {
   "cell_type": "code",
   "execution_count": null,
   "metadata": {
    "scrolled": true
   },
   "outputs": [],
   "source": [
    "# OPC - \n",
    "FeaturePlot(object, features = c(\"Pdgfra\"), label=TRUE)\n",
    "FeaturePlot(object, features = c(\"Olig1\"), label=TRUE)"
   ]
  },
  {
   "cell_type": "code",
   "execution_count": null,
   "metadata": {
    "scrolled": true
   },
   "outputs": [],
   "source": [
    "# ODC (mODC and nODC) - \n",
    "FeaturePlot(object, features = c(\"Plp1\"), label=TRUE)\n",
    "FeaturePlot(object, features = c(\"Mbp\"), label=TRUE)\n",
    "FeaturePlot(object, features = c(\"Mobp\"), label=TRUE)\n",
    "FeaturePlot(object, features = c(\"Olig1\"),label=TRUE)"
   ]
  },
  {
   "cell_type": "code",
   "execution_count": null,
   "metadata": {
    "scrolled": true
   },
   "outputs": [],
   "source": [
    "# Astrocytes -\n",
    "FeaturePlot(object, features = c(\"Slc1a3\"), label=TRUE)\n",
    "FeaturePlot(object, features = c(\"S100b\"), label=TRUE)\n",
    "FeaturePlot(object, features = c(\"Gfap\"), label=TRUE)"
   ]
  },
  {
   "cell_type": "code",
   "execution_count": null,
   "metadata": {},
   "outputs": [],
   "source": [
    "# Endothelial\n",
    "FeaturePlot(object, features = c(\"Flt1\"), label=TRUE)"
   ]
  },
  {
   "cell_type": "code",
   "execution_count": null,
   "metadata": {
    "scrolled": true
   },
   "outputs": [],
   "source": [
    "# Other Vascular Markers (Pericytes, Smooth Muscle, etc) -\n",
    "FeaturePlot(object, features = c(\"Bgn\"), label=TRUE)\n",
    "FeaturePlot(object, features = c(\"Vtn\"), label=TRUE)"
   ]
  },
  {
   "cell_type": "code",
   "execution_count": null,
   "metadata": {},
   "outputs": [],
   "source": [
    "# Fibroblast-like - \n",
    "FeaturePlot(object, features = c(\"Bnc2\"), label=TRUE)"
   ]
  },
  {
   "cell_type": "code",
   "execution_count": null,
   "metadata": {},
   "outputs": [],
   "source": [
    "# Assigning Cell Type Identity to clusters\n",
    "    # Fill the new.cluster.ids2 list with the cell type labels for each cluster in numerical order\n",
    "    # I usually create an excel sheet with a column for each cell type and put the cluster number\n",
    "    # of each cluster into its cell type column. Then, I create a separate column with each cluster\n",
    "    # number in a row and put the cluster number's label next to it. Then, I will simply copy the \n",
    "    # column into the new.cluster.ids2 list (make sure that you make this a list of strings by\n",
    "    # adding quotes around each cell type name)\n",
    "new.cluster.ids2 <- c()\n",
    "names(new.cluster.ids2) <- levels(object)\n",
    "object <- RenameIdents(object, new.cluster.ids2)\n",
    "DimPlot(object, reduction = \"umap\", label = TRUE)"
   ]
  },
  {
   "cell_type": "code",
   "execution_count": null,
   "metadata": {},
   "outputs": [],
   "source": [
    "# Save commonly needed UMAP plots\n",
    "    # replace \"project\" and \"date\" to reflect that of your project\n",
    "\n",
    "pdf(\"plots/project_legend_cellTypes_date.pdf\")\n",
    "DimPlot(object, reduction = \"umap\", label = FALSE)\n",
    "dev.off()\n",
    "\n",
    "pdf(\"plots/project_cellTypes_date.pdf\")\n",
    "DimPlot(object, reduction = \"umap\", label = TRUE) + NoLegend()\n",
    "dev.off()\n",
    "\n",
    "pdf(\"plots/project_umapGenotype_date.pdf\")\n",
    "DimPlot(object, group.by=\"model\")\n",
    "dev.off()"
   ]
  },
  {
   "cell_type": "code",
   "execution_count": null,
   "metadata": {
    "scrolled": true
   },
   "outputs": [],
   "source": [
    "# Create cell type distribution plot by genotype\n",
    "object@meta.data$cellType = Idents(object)\n",
    "pt <- as.data.frame(table(object$cellType, object$model))\n",
    "pt$cellType <- as.character(pt$Var1)\n",
    "pt$Model <- pt$Var2\n",
    "dim(pt)\n",
    "\n",
    "# Calculate percentage of each genotype made up by each cell type\n",
    "    # Choose the below percentage assingment based on how many genotypes you have\n",
    "    # You may need to adjust the row numbers in the calculation if you do not have the same \n",
    "    # common cell types shown in \"my_levels2\" below\n",
    "# Assuming two genotypes\n",
    "pt$Percentage <- c(pt$Freq[1:9]/sum(pt$Freq[1:9]), pt$Freq[10:18]/sum(pt$Freq[10:18]))\n",
    "# Assuming three genotypes\n",
    "pt$Percentage <- c(pt$Freq[1:9]/sum(pt$Freq[1:9]), pt$Freq[10:18]/sum(pt$Freq[10:18]), pt$Freq[19:27]/sum(pt$Freq[19:27]))\n",
    "pt\n",
    "\n",
    "# Reorder data to be in ascending order by cell type frequency.\n",
    "    # You may need to rearrange or add/remove these cell type names depending on your dataset\n",
    "my_levels2 <- c(\"Excitatory Neurons\", \"Inhibitory Neurons\", \"Astrocytes\", \"ODC\", \n",
    "                \"Fibroblast-like\", \"Microglia\", \"OPC\", \"Endothelial\", \"Other Vascular\")\n",
    "factor(pt$cellType, levels= my_levels2)\n",
    "pt$cellType <- factor(pt$cellType, levels= my_levels2)\n",
    "\n",
    "# Plot the results as a stacked bar chart and save the plot\n",
    "#pdf(\"plots/project_percentageCelltype_byReplicate_date.pdf\")\n",
    "ggplot(pt, aes(x = Model, y = Percentage, fill = cellType, label=round(Percentage,2))) +\n",
    "    geom_bar(stat=\"identity\") +\n",
    "    geom_text(size=3, position=position_stack(vjust=0.5))\n",
    "#dev.off()"
   ]
  },
  {
   "cell_type": "code",
   "execution_count": null,
   "metadata": {},
   "outputs": [],
   "source": [
    "# Create cell type distribution plot by replicate\n",
    "\n",
    "object@meta.data$cellType = Idents(object)\n",
    "pt <- as.data.frame(table(object$cellType, object$orig.ident))\n",
    "pt$cellType <- as.character(pt$Var1)\n",
    "\n",
    "# Map the \"orig.ident\" to genotype\n",
    "    # \"from\": list of the replicate names stored in \"object@meta.data$orig.ident\"\n",
    "    # \"to\": list of the corresponding shortened names of each replicate\n",
    "    # i.e.\n",
    "        # replicate <- plyr::mapvalues(\n",
    "        #    x = pt$Var2, \n",
    "        #    from = c(\"Exp_HT1\", \"Exp_KO1\", \"Exp_WT1\"), \n",
    "        #    to = c(\"HT1\", \"KO1\", \"WT1\")\n",
    "        # )  \n",
    "replicate <- plyr::mapvalues(\n",
    "    x = pt$Var2, \n",
    "    from = c(), \n",
    "    to = c()\n",
    ")\n",
    "replicate\n",
    "pt$Sample <- replicate\n",
    "pt\n",
    "dim(pt)\n",
    "# Adjust to align with number of samples/cell types\n",
    "pt$Percentage <- c(pt$Freq[1:9]/sum(pt$Freq[1:9]), \n",
    "                   pt$Freq[10:18]/sum(pt$Freq[10:18]), \n",
    "                   pt$Freq[19:27]/sum(pt$Freq[19:27]),\n",
    "                   pt$Freq[28:36]/sum(pt$Freq[28:36]),\n",
    "                   pt$Freq[37:45]/sum(pt$Freq[37:45]),\n",
    "                   pt$Freq[46:54]/sum(pt$Freq[46:54]),\n",
    "                   pt$Freq[55:63]/sum(pt$Freq[55:63]),\n",
    "                   pt$Freq[64:72]/sum(pt$Freq[64:72]),\n",
    "                   pt$Freq[73:81]/sum(pt$Freq[73:81]),\n",
    "                   pt$Freq[82:90]/sum(pt$Freq[82:90]),\n",
    "                   pt$Freq[91:99]/sum(pt$Freq[91:99])\n",
    "                  )\n",
    "pt\n",
    "\n",
    "my_levels2 <- c(\"Excitatory Neurons\", \"Inhibitory Neurons\", \"Astrocytes\", \"ODC\", \n",
    "                \"Fibroblast-like\", \"Microglia\", \"OPC\", \"Endothelial\", \"Other Vascular\")\n",
    "factor(pt$cellType, levels= my_levels2)\n",
    "pt$cellType <- factor(pt$cellType, levels= my_levels2)\n",
    "#pdf(\"plots/project_rpercentageCelltype_byReplicate_date.pdf\")\n",
    "ggplot(pt, aes(x = Sample, y = Percentage, fill = cellType, label=round(Percentage,2))) +\n",
    "    geom_bar(stat=\"identity\") +\n",
    "    geom_text(size=3, position=position_stack(vjust=0.5))\n",
    "#dev.off()"
   ]
  },
  {
   "cell_type": "code",
   "execution_count": null,
   "metadata": {},
   "outputs": [],
   "source": [
    "# Checkpoint 3: Post-labeled object \n",
    "    # replace \"project\" and \"date\" to reflect that of your project\n",
    "saveRDS(object, \"project_postLabel_date.rds\")\n",
    "#object <- readRDS(\"project_postLabel_date.rds\")"
   ]
  }
  {
   "cell_type": "code",
   "execution_count": null,
   "metadata": {},
   "outputs": [],
   "source": [
    "# Code for reading in subtype data and removing filtered contamination\n",
    "inhib <- readRDS("downstream_analysis/subclustering/inhibitoryNeurons/inhibSubclusters.rds")\n",
    "object@meta.data$cellType <- Idents(object)\n",
    "object@meta.data$filtInhib <- "remove"n\",
    "object@meta.data$filtInhib[object@meta.data$cellType!="Inhibitory Neurons"] <- "keep"\n",
    "object@meta.data$filtInhib[object@meta.data$cellType=="Inhibitory Neurons" & row.names(object@meta.data) %in% row.names(inhib@meta.data)] <- "keep"\n",
    "DimPlot(object, group.by="filtInhib")\n",
   ]
  }
 ],
 "metadata": {
  "kernelspec": {
   "display_name": "R",
   "language": "R",
   "name": "ir"
  },
  "language_info": {
   "codemirror_mode": "r",
   "file_extension": ".r",
   "mimetype": "text/x-r-source",
   "name": "R",
   "pygments_lexer": "r",
   "version": "3.6.1"
  }
 },
 "nbformat": 4,
 "nbformat_minor": 4
}
