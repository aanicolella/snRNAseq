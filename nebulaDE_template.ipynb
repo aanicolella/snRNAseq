{
 "cells": [
  {
   "cell_type": "code",
   "execution_count": null,
   "metadata": {},
   "outputs": [],
   "source": [
    "library(nebula)\n",
    "library(Seurat)"
   ]
  },
  {
   "cell_type": "code",
   "execution_count": null,
   "metadata": {},
   "outputs": [],
   "source": [
    "# Data loading, subset desired cell type and add condition column\n",
    "\n",
    "object <- readRDS(\"parentDir/project_postLabel_date.rds\")\n",
    "REP <- subset(object, subset=cellType==\"REP\")\n",
    "REP\n",
    "\n",
    "condition <- plyr::mapvalues(\n",
    "    x = REP@meta.data$orig.ident, \n",
    "    from = c(), \n",
    "    to = c()\n",
    ")\n",
    "REP@meta.data$condition <- condition"
   ]
  },
  {
   "cell_type": "code",
   "execution_count": null,
   "metadata": {},
   "outputs": [],
   "source": [
    "# Function for properly passing data to and running nebula\n",
    "\n",
    "RunNebula <- function(seur,form_fixed,sampleCol,cpc=.1)\n",
    "{\n",
    "meta=seur@meta.data\n",
    "dat=seur@assays$RNA@counts\n",
    "print(dim(dat))\n",
    "print(\"Reorder\")\n",
    "dat=dat[,order(meta[,sampleCol])]\n",
    "meta=meta[order(meta[,sampleCol]),]\n",
    "print(\"Run DE!\")\n",
    "df = model.matrix(form_fixed, data=meta)\n",
    "print(head(df))\n",
    "print(head(meta[,sampleCol]))\n",
    "\n",
    "re = nebula(dat,meta[,sampleCol],pred=df,offset=meta$nCount_RNA,cpc=cpc)\n",
    "return(re)\n",
    "}"
   ]
  },
  {
   "cell_type": "code",
   "execution_count": null,
   "metadata": {},
   "outputs": [],
   "source": [
    "# Set-up and run nebula\n",
    "\n",
    "REP@meta.data$condition=factor(REP@meta.data[,\"condition\"]);REP@meta.data[\"condition\"]=relevel(REP@meta.data[,\"condition\"],ref=\"WT\")\n",
    "re <- RunNebula(REP, ~condition, \"orig.ident\", cpc=0.1)\n",
    "summ <- re$summary"
   ]
  },
  {
   "cell_type": "code",
   "execution_count": null,
   "metadata": {},
   "outputs": [],
   "source": [
    "# If not adding back rows for filtered genes\n",
    "\n",
    "summ_filt <- data.frame(gene=summ$gene, logFC=summ$logFC_conditionKO, p_value=summ$p_conditionKO)\n",
    "summ_filt$padj <- p.adjust(summ_filt$p_value, method=\"fdr\")\n",
    "summ_filt <- summ_filt[order(summ_filt$p_value),]\n",
    "head(summ_filt)"
   ]
  },
  {
   "cell_type": "code",
   "execution_count": null,
   "metadata": {},
   "outputs": [],
   "source": [
    "# If adding back rows for filtered genes\n",
    "allGenes <- rownames(REP)\n",
    "# Set up results table, add padj and stat column\n",
    "summ_filt <- data.frame(gene=summ$gene, logFC=summ$logFC_conditionHT, p_value=summ$p_conditionHT)\n",
    "summ_filt$padj <- p.adjust(summ_filt$p_value, method=\"fdr\")\n",
    "summ_filt$stat <- -log(summ_filt$p_value)*sign(summ_filt$logFC)\n",
    "\n",
    "# Find genes filtered for low expression\n",
    "naGenes <- allGenes[which(!allGenes %in% summ_filt$gene)]\n",
    "\n",
    "# Make df with NA values for dropped genes\n",
    "naRows <- data.frame(matrix(ncol=5, nrow=length(naGenes)))\n",
    "cols = c(\"gene\", \"logFC\", \"p_value\", \"padj\", \"stat\")\n",
    "colnames(naRows) <- cols\n",
    "naRows$gene <- naGenes\n",
    "\n",
    "# Combine df's, order, check\n",
    "summ_full <- rbind(summ_filt, naRows)\n",
    "summ_full <- summ_full[order(summ_full$gene),]\n",
    "head(summ_full)\n",
    "dim(summ_full)"
   ]
  },
  {
   "cell_type": "code",
   "execution_count": null,
   "metadata": {},
   "outputs": [],
   "source": [
    "# Write nebula results to csv\n",
    "write.csv(summ_X, \"REP_nebulaDE_DATE.csv\", row.names=FALSE)"
   ]
  }
 ],
 "metadata": {
  "kernelspec": {
   "display_name": "R",
   "language": "R",
   "name": "ir"
  },
  "language_info": {
   "codemirror_mode": "r",
   "file_extension": ".r",
   "mimetype": "text/x-r-source",
   "name": "R",
   "pygments_lexer": "r",
   "version": "3.6.1"
  }
 },
 "nbformat": 4,
 "nbformat_minor": 4
}
