{
 "cells": [
  {
   "cell_type": "code",
   "execution_count": null,
   "metadata": {},
   "outputs": [],
   "source": [
    "# Install required packages if they are not already installed\n",
    "install.packages(\"devtools\")\n",
    "library(devtools)\n",
    "install_github(\"lhe17/nebula\")"
   ]
  },
  {
   "cell_type": "code",
   "execution_count": null,
   "metadata": {},
   "outputs": [],
   "source": [
    "library(nebula)\n",
    "library(Seurat)"
   ]
  },
  {
   "cell_type": "code",
   "execution_count": null,
   "metadata": {},
   "outputs": [],
   "source": [
    "# Data loading, subset by desired genotype \n",
    "    # replace \"parentDir/project_postLabel_date.rds\" with the path to your data object\n",
    "    # replace GENO (globally) with the genotype of choice (i.e. HT)\n",
    "    # replace NOT with the genotype that you are not analyzing (i.e. GENO)\n",
    "        # This way, only the genotype you want to analyze and the WT replicates will be chosen\n",
    "\n",
    "object <- readRDS(\"parentDir/project_postLabel_date.rds\")\n",
    "GENO <- subset(object, subset=model!=NOT)\n",
    "GENO@meta.data$condition <- GENO@meta.data$model"
   ]
  },
  {
   "cell_type": "code",
   "execution_count": null,
   "metadata": {},
   "outputs": [],
   "source": [
    "# Function for properly passing data to and running nebula\n",
    "\n",
    "RunNebula <- function(seur,form_fixed,sampleCol,cpc=.1)\n",
    "{\n",
    "meta=seur@meta.data\n",
    "dat=seur@assays$RNA@counts\n",
    "print(dim(dat))\n",
    "print(\"Reorder\")\n",
    "dat=dat[,order(meta[,sampleCol])]\n",
    "meta=meta[order(meta[,sampleCol]),]\n",
    "print(\"Run DE!\")\n",
    "df = model.matrix(form_fixed, data=meta)\n",
    "print(head(df))\n",
    "print(head(meta[,sampleCol]))\n",
    "\n",
    "re = nebula(dat,meta[,sampleCol],pred=df,offset=meta$nCount_RNA,cpc=cpc)\n",
    "return(re)\n",
    "}"
   ]
  },
  {
   "cell_type": "code",
   "execution_count": null,
   "metadata": {},
   "outputs": [],
   "source": [
    "# Variables to replace\n",
    "    # PROJECT: the name of the dataset you are analyzing (likely GENE_AGEREGION)\n",
    "    # DATE: The date of the analysis\n",
    "\n",
    "# Set-up and run nebula\n",
    "GENO@meta.data$condition=factor(GENO@meta.data[,\"condition\"]);GENO@meta.data[\"condition\"]=relevel(GENO@meta.data[,\"condition\"],ref=\"WT\")\n",
    "re <- RunNebula(GENO, ~condition, \"orig.ident\", cpc=0.1)\n",
    "summ <- re$summary\n",
    "\n",
    "# Get all gene names so you can add back the filtered out gene names to the final results\n",
    "    # This makes it easier to compare results across experiments\n",
    "allGenes <- rownames(GENO)\n",
    "# Set up results table, add padj and stat column\n",
    "summ_filt <- data.frame(gene=summ$gene, logFC=summ$logFC_conditionGENO, p_value=summ$p_conditionGENO)\n",
    "summ_filt$padj <- p.adjust(summ_filt$p_value, method=\"fdr\")\n",
    "summ_filt$stat <- -log(summ_filt$p_value)*sign(summ_filt$logFC)\n",
    "\n",
    "# Find genes filtered for low expression\n",
    "naGenes <- allGenes[which(!allGenes %in% summ_filt$gene)]\n",
    "\n",
    "# Make df with NA values for dropped genes\n",
    "naRows <- data.frame(matrix(ncol=5, nrow=length(naGenes)))\n",
    "cols = c(\"gene\", \"logFC\", \"p_value\", \"padj\", \"stat\")\n",
    "colnames(naRows) <- cols\n",
    "naRows$gene <- naGenes\n",
    "\n",
    "# Combine df's, order in alphabetical order by gene name, check\n",
    "summ_full <- rbind(summ_filt, naRows)\n",
    "summ_full <- summ_full[order(summ_full$gene),]\n",
    "head(summ_full)\n",
    "dim(summ_full)\n",
    "\n",
    "# Write nebula results to csv\n",
    "write.csv(summ_full, \"PROJECT_GENOWT_nebulaDE_DATE.csv\", row.names=FALSE)"
   ]
  }
 ],
 "metadata": {
  "kernelspec": {
   "display_name": "R",
   "language": "R",
   "name": "ir"
  },
  "language_info": {
   "codemirror_mode": "r",
   "file_extension": ".r",
   "mimetype": "text/x-r-source",
   "name": "R",
   "pygments_lexer": "r",
   "version": "3.6.1"
  }
 },
 "nbformat": 4,
 "nbformat_minor": 4
}
