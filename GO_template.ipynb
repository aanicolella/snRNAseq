{
 "cells": [
  {
   "cell_type": "code",
   "execution_count": null,
   "metadata": {},
   "outputs": [],
   "source": [
    "# Install required packages if not already installed\n",
    "\n",
    "if (!requireNamespace(\"BiocManager\", quietly = TRUE))\n",
    "    install.packages(\"BiocManager\")\n",
    "BiocManager::install(\"clusterProfiler\")\n",
    "BiocManager::install(\"AnnotationHub\")"
   ]
  },
  {
   "cell_type": "code",
   "execution_count": null,
   "metadata": {},
   "outputs": [],
   "source": [
    "# Load required packages\n",
    "library(AnnotationHub)\n",
    "library(clusterProfiler)"
   ]
  },
  {
   "cell_type": "code",
   "execution_count": null,
   "metadata": {},
   "outputs": [],
   "source": [
    "# Load reference for converting gene names to proper format\n",
    "hub<-AnnotationHub()\n",
    "mm <- hub[[\"AH75743\"]]\n",
    "\n",
    "# Astrocytes\n",
    "    # Load DE results\n",
    "astro <- read.csv(\"/path/to/DE/results/byCellType/astrocytes/astrocytes_project_nebulaDE_date.csv\")\n",
    "\n",
    "# Filter for genes that reach upregulation significance threshhold\n",
    "    # Adjust these cutoffs if needed \n",
    "sample_up<- astro[astro$p_value < 0.05 & astro$logFC > 0,]\n",
    "resUp=bitr(sample_up$gene,fromType=\"SYMBOL\",toType=\"ENTREZID\",OrgDb=mm)\n",
    "sample_up=resUp[,2]\n",
    "# Run GO analysis on significant genes\n",
    "xx2=enrichGO(sample_up,OrgDb=mm,keyType=\"ENTREZID\",readable=T)\n",
    "write.csv(xx2, \"astrocytes/up_astrocytes_GO.csv\")\n",
    "\n",
    "# Filter for genes that reach downregulation significance threshhold\n",
    "    # Adjust these cutoffs if needed \n",
    "sample_down<- astro[astro$p_value < 0.05 & astro$logFC < 0,]\n",
    "resDown=bitr(sample_down$gene,fromType=\"SYMBOL\",toType=\"ENTREZID\",OrgDb=mm)\n",
    "sample_down=resDown[,2]\n",
    "xx3=enrichGO(sample_down,OrgDb=mm,keyType=\"ENTREZID\",readable=T)\n",
    "write.csv(xx3, \"astrocytes/down_astrocytes_GO.csv\")"
   ]
  },
  {
   "cell_type": "code",
   "execution_count": null,
   "metadata": {},
   "outputs": [],
   "source": [
    "# Endothelial\n",
    "endo <- read.csv(\"/path/to/DE/results/byCellType/endothelial/endothelial_project_nebulaDE_date.csv\")\n",
    "sample_up<- endo[endo$p_value < 0.05 & endo$logFC > 0,]\n",
    "resUp=bitr(sample_up$gene,fromType=\"SYMBOL\",toType=\"ENTREZID\",OrgDb=mm)\n",
    "sample_up=resUp[,2]\n",
    "xx2=enrichGO(sample_up,OrgDb=mm,keyType=\"ENTREZID\",readable=T)\n",
    "write.csv(xx2, \"endothelial/up_endothelial_GO.csv\")\n",
    "\n",
    "sample_down<- endo[endo$p_value < 0.05 & endo$logFC < 0,]\n",
    "resDown=bitr(sample_down$gene,fromType=\"SYMBOL\",toType=\"ENTREZID\",OrgDb=mm)\n",
    "sample_down=resDown[,2]\n",
    "xx3=enrichGO(sample_down,OrgDb=mm,keyType=\"ENTREZID\",readable=T)\n",
    "write.csv(xx3, \"endothelial/down_endothelial_GO.csv\")"
   ]
  },
  {
   "cell_type": "code",
   "execution_count": null,
   "metadata": {},
   "outputs": [],
   "source": [
    "# Excitatory Neurons\n",
    "excit <- read.csv(\"/path/to/DE/results/byCellType/excitatoryNeurons/excitatoryNeurons_project_nebulaDE_date.csv\")\n",
    "sample_up<- excit[excit$p_value < 0.05 & excit$logFC > 0,]\n",
    "resUp=bitr(sample_up$gene,fromType=\"SYMBOL\",toType=\"ENTREZID\",OrgDb=mm)\n",
    "sample_up=resUp[,2]\n",
    "xx2=enrichGO(sample_up,OrgDb=mm,keyType=\"ENTREZID\",readable=T)\n",
    "write.csv(xx2, \"excitatoryNeurons/up_excitatoryNeurons_GO.csv\")\n",
    "\n",
    "sample_down<- excit[excit$p_value < 0.05 & excit$logFC < 0,]\n",
    "resDown=bitr(sample_down$gene,fromType=\"SYMBOL\",toType=\"ENTREZID\",OrgDb=mm)\n",
    "sample_down=resDown[,2]\n",
    "xx3=enrichGO(sample_down,OrgDb=mm,keyType=\"ENTREZID\",readable=T)\n",
    "write.csv(xx3, \"excitatoryNeurons/down_excitatoryNeurons_GO.csv\")"
   ]
  },
  {
   "cell_type": "code",
   "execution_count": null,
   "metadata": {},
   "outputs": [],
   "source": [
    "# Fibroblast-like\n",
    "fibro <- read.csv(\"/path/to/DE/results/byCellType/fibroblastLike/fibroblastLike_project_nebulaDE_date.csv\")\n",
    "sample_up<- fibro[fibro$p_value < 0.05 & fibro$logFC > 0,]\n",
    "resUp=bitr(sample_up$gene,fromType=\"SYMBOL\",toType=\"ENTREZID\",OrgDb=mm)\n",
    "sample_up=resUp[,2]\n",
    "xx2=enrichGO(sample_up,OrgDb=mm,keyType=\"ENTREZID\",readable=T)\n",
    "write.csv(xx2, \"fibroblastLike/up_fibroblastLike_GO.csv\")\n",
    "\n",
    "sample_down<- fibro[fibro$p_value < 0.05 & fibro$logFC < 0,]\n",
    "resDown=bitr(sample_down$gene,fromType=\"SYMBOL\",toType=\"ENTREZID\",OrgDb=mm)\n",
    "sample_down=resDown[,2]\n",
    "xx3=enrichGO(sample_down,OrgDb=mm,keyType=\"ENTREZID\",readable=T)\n",
    "write.csv(xx3, \"fibroblastLike/down_fibroblastLike_GO.csv\")"
   ]
  },
  {
   "cell_type": "code",
   "execution_count": null,
   "metadata": {},
   "outputs": [],
   "source": [
    "# Inhibitory Neurons\n",
    "inhib <- read.csv(\"/path/to/DE/results/byCellType/inhibitoryNeurons/inhibitoryNeurons_project_nebulaDE_date.csv\")\n",
    "sample_up<- inhib[inhib$p_value < 0.05 & inhib$logFC > 0,]\n",
    "resUp=bitr(sample_up$gene,fromType=\"SYMBOL\",toType=\"ENTREZID\",OrgDb=mm)\n",
    "sample_up=resUp[,2]\n",
    "xx2=enrichGO(sample_up,OrgDb=mm,keyType=\"ENTREZID\",readable=T)\n",
    "write.csv(xx2, \"inhibitoryNeurons/up_inhibitoryNeurons_GO.csv\")\n",
    "\n",
    "sample_down<- inhib[inhib$p_value < 0.05 & inhib$logFC < 0,]\n",
    "resDown=bitr(sample_down$gene,fromType=\"SYMBOL\",toType=\"ENTREZID\",OrgDb=mm)\n",
    "sample_down=resDown[,2]\n",
    "xx3=enrichGO(sample_down,OrgDb=mm,keyType=\"ENTREZID\",readable=T)\n",
    "write.csv(xx3, \"inhibitoryNeurons/down_inhibitoryNeurons_GO.csv\")"
   ]
  },
  {
   "cell_type": "code",
   "execution_count": null,
   "metadata": {},
   "outputs": [],
   "source": [
    "# Microglia\n",
    "micro <- read.csv(\"/path/to/DE/results/byCellType/microglia/microglia_project_nebulaDE_date.csv\")\n",
    "sample_up<- micro[micro$p_value < 0.05 & micro$logFC > 0,]\n",
    "resUp=bitr(sample_up$gene,fromType=\"SYMBOL\",toType=\"ENTREZID\",OrgDb=mm)\n",
    "sample_up=resUp[,2]\n",
    "xx2=enrichGO(sample_up,OrgDb=mm,keyType=\"ENTREZID\",readable=T)\n",
    "write.csv(xx2, \"microglia/up_microglia_GO.csv\")\n",
    "\n",
    "sample_down<- micro[micro$p_value < 0.05 & micro$logFC < 0,]\n",
    "resDown=bitr(sample_down$gene,fromType=\"SYMBOL\",toType=\"ENTREZID\",OrgDb=mm)\n",
    "sample_down=resDown[,2]\n",
    "xx3=enrichGO(sample_down,OrgDb=mm,keyType=\"ENTREZID\",readable=T)\n",
    "write.csv(xx3, \"microglia/down_microglia_GO.csv\")"
   ]
  },
  {
   "cell_type": "code",
   "execution_count": null,
   "metadata": {},
   "outputs": [],
   "source": [
    "# ODC\n",
    "ODC <- read.csv(\"/path/to/DE/results/byCellType/ODC/ODC_project_nebulaDE_date.csv\")\n",
    "sample_up<- ODC[ODC$p_value < 0.05 & ODC$logFC > 0,]\n",
    "resUp=bitr(sample_up$gene,fromType=\"SYMBOL\",toType=\"ENTREZID\",OrgDb=mm)\n",
    "sample_up=resUp[,2]\n",
    "xx2=enrichGO(sample_up,OrgDb=mm,keyType=\"ENTREZID\",readable=T)\n",
    "write.csv(xx2, \"ODC/up_ODC_GO.csv\")\n",
    "\n",
    "sample_down<- ODC[ODC$p_value < 0.05 & ODC$logFC < 0,]\n",
    "resDown=bitr(sample_down$gene,fromType=\"SYMBOL\",toType=\"ENTREZID\",OrgDb=mm)\n",
    "sample_down=resDown[,2]\n",
    "xx3=enrichGO(sample_down,OrgDb=mm,keyType=\"ENTREZID\",readable=T)\n",
    "write.csv(xx3, \"ODC/down_ODC_GO.csv\")"
   ]
  },
  {
   "cell_type": "code",
   "execution_count": null,
   "metadata": {},
   "outputs": [],
   "source": [
    "# OPC\n",
    "OPC <- read.csv(\"/path/to/DE/results/byCellType/OPC/OPC_project_nebulaDE_date.csv\")\n",
    "sample_up<- OPC[OPC$p_value < 0.05 & OPC$logFC > 0,]\n",
    "resUp=bitr(sample_up$gene,fromType=\"SYMBOL\",toType=\"ENTREZID\",OrgDb=mm)\n",
    "sample_up=resUp[,2]\n",
    "xx2=enrichGO(sample_up,OrgDb=mm,keyType=\"ENTREZID\",readable=T)\n",
    "write.csv(xx2, \"OPC/up_OPC_GO.csv\")\n",
    "\n",
    "sample_down<- OPC[OPC$p_value < 0.05 & OPC$logFC < 0,]\n",
    "resDown=bitr(sample_down$gene,fromType=\"SYMBOL\",toType=\"ENTREZID\",OrgDb=mm)\n",
    "sample_down=resDown[,2]\n",
    "xx3=enrichGO(sample_down,OrgDb=mm,keyType=\"ENTREZID\",readable=T)\n",
    "write.csv(xx3, \"OPC/down_OPC_GO.csv\")"
   ]
  },
  {
   "cell_type": "code",
   "execution_count": null,
   "metadata": {},
   "outputs": [],
   "source": [
    "# Other Vascular\n",
    "otherVascular <- read.csv(\"/path/to/DE/results/byCellType/otherVascular/otherVascular_project_nebulaDE_date.csv\")\n",
    "sample_up<- otherVascular[otherVascular$p_value < 0.05 & otherVascular$logFC > 0,]\n",
    "resUp=bitr(sample_up$gene,fromType=\"SYMBOL\",toType=\"ENTREZID\",OrgDb=mm)\n",
    "sample_up=resUp[,2]\n",
    "xx2=enrichGO(sample_up,OrgDb=mm,keyType=\"ENTREZID\",readable=T)\n",
    "write.csv(xx2, \"otherVascular/up_otherVascular_GO.csv\")\n",
    "\n",
    "sample_down<- otherVascular[otherVascular$p_value < 0.05 & otherVascular$logFC < 0,]\n",
    "resDown=bitr(sample_down$gene,fromType=\"SYMBOL\",toType=\"ENTREZID\",OrgDb=mm)\n",
    "sample_down=resDown[,2]\n",
    "xx3=enrichGO(sample_down,OrgDb=mm,keyType=\"ENTREZID\",readable=T)\n",
    "write.csv(xx3, \"otherVascular/down_otherVascular_GO.csv\")"
   ]
  }
 ],
 "metadata": {
  "kernelspec": {
   "display_name": "R",
   "language": "R",
   "name": "ir"
  },
  "language_info": {
   "codemirror_mode": "r",
   "file_extension": ".r",
   "mimetype": "text/x-r-source",
   "name": "R",
   "pygments_lexer": "r",
   "version": "3.6.1"
  }
 },
 "nbformat": 4,
 "nbformat_minor": 4
}
