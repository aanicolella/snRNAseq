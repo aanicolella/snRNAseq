{
 "cells": [
  {
   "cell_type": "code",
   "execution_count": null,
   "metadata": {},
   "outputs": [],
   "source": [
    "score_Genentech<-function(dat,genes)\n",
    "{\n",
    "dat=log(dat+1)\n",
    "genes=lapply(genes,function(x){return(intersect(x,rownames(dat)))})\n",
    "print(\"Score gene sets\")\n",
    "res=lapply(genes,function(x){\n",
    "rows=rownames(dat)\n",
    "dat=data.frame(dat)\n",
    "tab=dat[rows %in% x,]\n",
    "print(length(x))\n",
    "cols=colnames(dat)\n",
    "tab=data.frame(t(tab))\n",
    "for(i in colnames(tab)){tab[i]=tab[,i]-mean(tab[,i])}\n",
    "mn=rowMeans(tab)\n",
    "names(mn)=cols\n",
    "return(mn)\n",
    "})\n",
    "ret=do.call(cbind,res)\n",
    "colnames(ret)=names(genes)\n",
    "return(ret)\n",
    "}"
   ]
  },
  {
   "cell_type": "code",
   "execution_count": null,
   "metadata": {},
   "outputs": [],
   "source": [
    "# Load in geneset lists and each replicate\n",
    "library(\"tximport\")\n",
    "genes <- read.csv(\"/path/to/geneSetLists.csv\")\n",
    "filePath <- \"/path/to/data/REGION/\"\n",
    "sampleNames <- c()\n",
    "files <- file.path(filePath, paste0(sampleNames, \"/\", sampleNames, \".genes.results\"))\n",
    "names(files) <- sampleNames\n",
    "rsem.in <- tximport(files, type=\"rsem\", txIn=FALSE, txOut=FALSE)\n",
    "dat <- rsem.in$abundance\n",
    "\n",
    "geneName <- data.frame(do.call('rbind', strsplit(as.character(row.names(dat)), '_', fixed=TRUE)))\n",
    "geneName <- geneName[\"X2\"]               \n",
    "row.names(dat) <- geneName$X2\n",
    "\n",
    "head(dat)\n",
    "colSums(dat)"
   ]
  },
  {
   "cell_type": "code",
   "execution_count": null,
   "metadata": {},
   "outputs": [],
   "source": [
    "# Run scoring function\n",
    "res <- score_Genentech(dat, genes)\n",
    "row.names(res) <- colnames(dat)\n",
    "head(res)\n",
    "# Transpose output table for readability (optional)\n",
    "res2 <- t(res)\n",
    "write.csv(res2, \"EXPERIMENT_geneSetScoresByReplicate.csv\")"
   ]
  },
  {
   "cell_type": "code",
   "execution_count": null,
   "metadata": {},
   "outputs": [],
   "source": [
    "# Reformat results and add genotype information \n",
    "res <- as.data.frame(res)\n",
    "condition <- c(rep(\"GENO1\",W),rep(\"GENO2\",X),rep(\"GENO3\",Y),rep(\"WT\",Z))\n",
    "res$condition <- condition\n",
    "res\n",
    "\n",
    "# Isolate results from GENO1 + WT for comparison\n",
    "res_GENO1 <-  res[res$condition %in% c(\"GENO1\",\"WT\"),]\n",
    "GENO1_names <- c()\n",
    "idx_GENO1 <- match(GENO1_names, names(dat))\n",
    "dat_GENO1 <- dat[,idx_GENO1]\n",
    "# Isolate results from GENO2 + WT for comparison\n",
    "res_GENO2 <- res[res$condition %in% c(\"GENO2\",\"WT\"),]\n",
    "GENO2_names <- c()\n",
    "idx_GENO2 <- match(GENO2_names, names(dat))\n",
    "dat_GENO2 <- dat[,idx_GENO2]\n",
    "\n",
    "# Isolate results from GENO3 + WT for comparison\n",
    "res_GENO3 <- res[res$condition %in% c(\"GENO3\",\"WT\"),]\n",
    "GENO3_names <- c()\n",
    "idx_GENO3 <- match(GENO3_names, names(dat))\n",
    "dat_GENO3 <- dat[,idx_GENO3]"
   ]
  },
  {
   "cell_type": "code",
   "execution_count": null,
   "metadata": {},
   "outputs": [],
   "source": [
    "# Fit linear model for all pathways in GENO1\n",
    "    # iterate over each pathway column and run linear model on each\n",
    "    # write output to mergeoutGENO1\n",
    "mergeOutGENO1 <- data.frame(matrix(ncol=4,nrow=0))\n",
    "colnames(mergeOutGENO1) <- c(\"Estimate\", \"Std. Error\", \"t value\", \"p_value\")\n",
    "for(i in names(res_GENO1[,1:16])){\n",
    "    model = lm(res_GENO1[,i]~res_GENO1$condition,data=as.data.frame(dat_GENO1))\n",
    "    mergeOutGENO1[i,] <- as.data.frame(t(summary(model)$coefficients[2,]))\n",
    "}\n",
    "mergeOutGENO1\n",
    "write.csv(mergeOutGENO1, \"EXPERIMENT_GENO1_geneSetStats.csv\", row.names=FALSE)"
   ]
  },
  {
   "cell_type": "code",
   "execution_count": null,
   "metadata": {},
   "outputs": [],
   "source": [
    "# Fit linear model for all pathways in GENO2\n",
    "mergeOutGENO2 <- data.frame(matrix(ncol=4,nrow=0))\n",
    "colnames(mergeOutGENO2) <- c(\"Estimate\", \"Std. Error\", \"t value\", \"p_value\")\n",
    "for(i in names(res_GENO2[,1:16])){\n",
    "    model = lm(res_GENO2[,i]~res_GENO2$condition,data=as.data.frame(dat_GENO2))\n",
    "    mergeOutGENO2[i,] <- as.data.frame(t(summary(model)$coefficients[2,]))\n",
    "}\n",
    "mergeOutGENO2\n",
    "write.csv(mergeOutGENO2, \"EXPERIMENT_GENO2_geneSetStats.csv\", row.names=FALSE)"
   ]
  },
  {
   "cell_type": "code",
   "execution_count": null,
   "metadata": {},
   "outputs": [],
   "source": [
    "# Fit linear model for all pathways in GENO3\n",
    "mergeOutGENO3 <- data.frame(matrix(ncol=4,nrow=0))\n",
    "colnames(mergeOutGENO3) <- c(\"Estimate\", \"Std. Error\", \"t value\", \"p_value\")\n",
    "for(i in names(res_GENO3[,1:16])){\n",
    "    model = lm(res_GENO3[,i]~res_GENO3$condition,data=as.data.frame(dat_GENO3))\n",
    "    mergeOutGENO3[i,] <- as.data.frame(t(summary(model)$coefficients[2,]))\n",
    "}\n",
    "mergeOutGENO3\n",
    "write.csv(mergeOutGENO3, \"EXPERIMENT_GENO3_geneSetStats.csv\", row.names=FALSE)"
   ]
  }
 ],
 "metadata": {
  "kernelspec": {
   "display_name": "R",
   "language": "R",
   "name": "ir"
  },
  "language_info": {
   "codemirror_mode": "r",
   "file_extension": ".r",
   "mimetype": "text/x-r-source",
   "name": "R",
   "pygments_lexer": "r",
   "version": "3.6.1"
  }
 },
 "nbformat": 4,
 "nbformat_minor": 4
}
