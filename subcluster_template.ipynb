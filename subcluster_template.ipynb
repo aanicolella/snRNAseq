{
 "cells": [
  {
   "cell_type": "code",
   "execution_count": null,
   "metadata": {
    "scrolled": true
   },
   "outputs": [],
   "source": [
    "# Load required libraries\n",
    "library(dplyr)\n",
    "library(Seurat)\n",
    "library(patchwork)\n",
    "library(DoubletFinder)\n",
    "library(DropletUtils)\n",
    "library(ggplot2)\n",
    "library(RColorBrewer)"
   ]
  },
  {
   "cell_type": "code",
   "execution_count": null,
   "metadata": {},
   "outputs": [],
   "source": [
    "object <- readRDS(\"/path/to/postLabel/object.rds\")"
   ]
  },
  {
   "cell_type": "code",
   "execution_count": null,
   "metadata": {},
   "outputs": [],
   "source": [
    "# Look at common statistics of the major data object\n",
    "head(object@meta.data)\n",
    "as.data.frame(table(object@meta.data$orig.ident))\n",
    "DimPlot(object, reduction=\"umap\")"
   ]
  },
  {
   "cell_type": "code",
   "execution_count": null,
   "metadata": {},
   "outputs": [],
   "source": [
    "# Subset to isolate the major cell type you are wishing to subcluster\n",
    "    # Replace \"CELLTYPE\" (globally) with the full name of the cell type you would like to isolate\n",
    "    # Replace \"ABR\" with the abbreviation of this cell type\n",
    "ABR <- subset(object, subset = cellType == \"CELLTYPE\")\n",
    "data.frame(table(ABR@meta.data$model))\n",
    "head(ABR@meta.data)"
   ]
  },
  {
   "cell_type": "code",
   "execution_count": null,
   "metadata": {
    "scrolled": true
   },
   "outputs": [],
   "source": [
    "# Look at current clustering of the cell type\n",
    "DimPlot(ABR, reduction = \"umap\", label = TRUE)\n",
    "DimPlot(ABR, reduction = \"umap\", group.by=\"orig.ident\")\n",
    "DimPlot(ABR, reduction = \"umap\", group.by=\"model\")"
   ]
  },
  {
   "cell_type": "code",
   "execution_count": null,
   "metadata": {
    "scrolled": true
   },
   "outputs": [],
   "source": [
    "# Recluster the data to see if smaller subpopulations (likely subtypes) cluster\n",
    "ABR <- RunPCA(object = ABR, features=VariableFeatures(object=ABR))\n",
    "ElbowPlot(ABR)"
   ]
  },
  {
   "cell_type": "code",
   "execution_count": null,
   "metadata": {
    "scrolled": true
   },
   "outputs": [],
   "source": [
    "# Continue clustering replace the variables below:\n",
    "    # X: replace with the max number of principal components to use based on the elbow plot above\n",
    "    # Y: replace with your desired resolution\n",
    "ABR <- FindNeighbors(ABR, dims=1:X)\n",
    "ABR <- FindClusters(ABR, resolution = Y)\n",
    "ABR <- RunUMAP(object = ABR, reduction = \"pca\", dims = 1:X)"
   ]
  },
  {
   "cell_type": "code",
   "execution_count": null,
   "metadata": {},
   "outputs": [],
   "source": [
    "# Look at clustering before evaluating subtype markers\n",
    "    # check to see if any replicates/genotypes are clustering separately. This can\n",
    "    # point to contamination\n",
    "DimPlot(ABR, reduction = \"umap\", label = TRUE)\n",
    "DimPlot(ABR, reduction = \"umap\", group.by=\"orig.ident\")\n",
    "DimPlot(ABR, reduction = \"umap\", group.by=\"model\")"
   ]
  },
  {
   "cell_type": "code",
   "execution_count": null,
   "metadata": {
    "scrolled": true
   },
   "outputs": [],
   "source": [
    "DimPlot(ABR, reduction = \"umap\", label = TRUE)\n",
    "#pdf(\"plots/CELLTYPESubclusters_bySample_DATE.pdf\")\n",
    "DimPlot(ABR, reduction = \"umap\", group.by=\"orig.ident\")\n",
    "#dev.off()\n",
    "#pdf(\"plots/CELLTYPESubclusters_byGenotype_DATE.pdf\")\n",
    "DimPlot(ABR, reduction = \"umap\", group.by=\"model\")\n",
    "#dev.off()\n",
    "#pdf(\"plots/CELLTYPESubclusters_byGenotype_DATE.pdf\")\n",
    "DimPlot(ABR, group.by=\"predicted.subclass_DropViz\")\n",
    "#pdf(\"plots/CELLTYPESubclusters_bySubtype_DATE.pdf\")\n",
    "DimPlot(ABR, group.by=\"predicted.subclass_1M\")\n",
    "#dev.off()"
   ]
  },
  {
   "cell_type": "code",
   "execution_count": null,
   "metadata": {
    "scrolled": true
   },
   "outputs": [],
   "source": [
    "# Evaluate subtype marker genes to label clusters by their subtype\n",
    "    # The below example shows the subtype marker genes for Hippocampal Excitatory Neuron subtypes\n",
    "    # Please email me (anicolel@broadinstitute.org) for a spreadsheet of marker genes for \n",
    "    # other cell types and brain regions\n",
    "\n",
    "# CA1:\n",
    "FeaturePlot(ABR, features = c(\"Mpped1\"), label=TRUE) \n",
    "FeaturePlot(ABR, features = c(\"Fibcd1\"), label=TRUE) \n",
    "FeaturePlot(ABR, features = c(\"Ndst3\"), label=TRUE)\n",
    "\n",
    "# CA2:\n",
    "FeaturePlot(ABR, features = c(\"Map3k15\"), label=TRUE) \n",
    "FeaturePlot(ABR, features = c(\"Lsm11\"), label=TRUE) \n",
    "FeaturePlot(ABR, features = c(\"Homer3\"), label=TRUE) \n",
    "\n",
    "# CA3: \n",
    "FeaturePlot(ABR, features = c(\"Cdh24\"), label=TRUE) \n",
    "\n",
    "# DG: \n",
    "FeaturePlot(ABR, features = c(\"Prox1\"), label=TRUE) \n",
    "FeaturePlot(ABR, features = c(\"C1ql2\"), label=TRUE) \n",
    "FeaturePlot(ABR, features = c(\"Dsp\"), label=TRUE) \n",
    "FeaturePlot(ABR, features = c(\"Npnt\"), label=TRUE) \n",
    "FeaturePlot(ABR, features = c(\"Dgkh\"), label=TRUE) "
   ]
  },
  {
   "cell_type": "code",
   "execution_count": null,
   "metadata": {},
   "outputs": [],
   "source": [
    "# Assign the subtype labels to each cluster \n",
    "    # new.cluster.ids2: a list of the cluster subtypes in order\n",
    "    # i.e. if cluster 0 is DG, cluster 1 is CA1, and cluster 2 is CA2, new.cluster.ids2 would\n",
    "    # be: c(\"DG\",\"CA1\",\"CA2\")\n",
    "new.cluster.ids2 <- c()\n",
    "names(new.cluster.ids2) <- levels(ABR)\n",
    "ABR <- RenameIdents(ABR, new.cluster.ids2)\n",
    "DimPlot(ABR, reduction = \"umap\", label = TRUE)"
   ]
  },
  {
   "cell_type": "code",
   "execution_count": null,
   "metadata": {},
   "outputs": [],
   "source": [
    "# Save plots of the labeled subtypes\n",
    "    # make sure you have created a \"plots\" subfolder before running this\n",
    "pdf(\"plots/CELLTYPESubclusters_bySample_DATE.pdf\")\n",
    "DimPlot(ABR, reduction = \"umap\", group.by=\"orig.ident\")\n",
    "dev.off()\n",
    "pdf(\"plots/CELLTYPESubclusters_byGenotype_DATE.pdf\")\n",
    "DimPlot(ABR, reduction = \"umap\", group.by=\"model\")\n",
    "dev.off()\n",
    "pdf(\"plots/CELLTYPESubclusters_bySubtype_DATE.pdf\")\n",
    "DimPlot(ABR, reduction = \"umap\", label = TRUE)\n",
    "dev.off()"
   ]
  },
  {
   "cell_type": "code",
   "execution_count": null,
   "metadata": {},
   "outputs": [],
   "source": [
    "ABR@meta.data$cellType = Idents(ABR)\n",
    "pt <- as.data.frame(table(ABR$cellType, ABR$model))\n",
    "pt$cellType <- as.character(pt$Var1)\n",
    "pt$Model <- pt$Var2\n",
    "dim(pt)\n",
    "pt\n",
    "\n",
    "# Calculate percentage of each genotype made up by each cell type\n",
    "    # Choose the below percentage assingment based on how many genotypes you have\n",
    "    # You will need to adjust the row numbers in the calculation if you do not have the same \n",
    "    # number of subtypes (four in this example)\n",
    "pt$Percentage <- c(pt$Freq[1:4]/sum(pt$Freq[1:4]), pt$Freq[5:8]/sum(pt$Freq[5:8]), pt$Freq[9:12]/sum(pt$Freq[9:12]))\n",
    "pt\n",
    "\n",
    "# Reorder data to be in ascending order by subtype frequency.\n",
    "    # You will need to add your subtype names in order of decending frequency to the \n",
    "    # \"my_levels2\" list below\n",
    "my_levels2 <- c()\n",
    "factor(pt$cellType, levels= my_levels2)\n",
    "pt$cellType <- factor(pt$cellType, levels= my_levels2)\n",
    "#pdf(\"plots/project_ABRPercentSubcluster_byGenotype_DATE.pdf\")\n",
    "ggplot(pt, aes(x = Model, y = Percentage, fill = cellType, label=round(Percentage,2))) +\n",
    "    geom_bar(stat=\"identity\") +\n",
    "    geom_text(size=3, position=position_stack(vjust=0.5))\n",
    "#dev.off()"
   ]
  },
  {
   "cell_type": "code",
   "execution_count": null,
   "metadata": {},
   "outputs": [],
   "source": [
    "# Create subtype distribution plot by replicate\n",
    "ABR@meta.data$cellType = Idents(ABR)\n",
    "pt <- as.data.frame(table(ABR$cellType, ABR$orig.ident))\n",
    "pt$cellType <- as.character(pt$Var1)\n",
    "\n",
    "# Map the \"orig.ident\" to genotype\n",
    "    # \"from\": list of the replicate names stored in \"object@meta.data$orig.ident\"\n",
    "    # \"to\": list of the corresponding shortened names of each replicate\n",
    "    # i.e.\n",
    "        # replicate <- plyr::mapvalues(\n",
    "        #    x = pt$Var2, \n",
    "        #    from = c(\"Exp_HT1\", \"Exp_KO1\", \"Exp_WT1\"), \n",
    "        #    to = c(\"HT1\", \"KO1\", \"WT1\")\n",
    "        # )  \n",
    "replicate <- plyr::mapvalues(\n",
    "    x = pt$Var2, \n",
    "    from = c(), \n",
    "    to = c()\n",
    ")\n",
    "replicate\n",
    "pt$Sample <- replicate\n",
    "pt\n",
    "# Adjust to align with number of samples/subtypes\n",
    "pt$Percentage <- c(pt$Freq[1:4]/sum(pt$Freq[1:4]), \n",
    "                   pt$Freq[5:8]/sum(pt$Freq[5:8]), \n",
    "                   pt$Freq[9:12]/sum(pt$Freq[9:12]),\n",
    "                   pt$Freq[13:16]/sum(pt$Freq[13:16]),\n",
    "                   pt$Freq[17:20]/sum(pt$Freq[17:20]),\n",
    "                   pt$Freq[21:24]/sum(pt$Freq[21:24]),\n",
    "                   pt$Freq[25:28]/sum(pt$Freq[25:28]),\n",
    "                   pt$Freq[29:32]/sum(pt$Freq[29:32]),\n",
    "                   pt$Freq[33:36]/sum(pt$Freq[33:36]),\n",
    "                   pt$Freq[37:40]/sum(pt$Freq[37:40]),\n",
    "                   pt$Freq[41:44]/sum(pt$Freq[41:44]),\n",
    "                   pt$Freq[45:48]/sum(pt$Freq[45:48]),\n",
    "                   pt$Freq[49:52]/sum(pt$Freq[49:52]),\n",
    "                   pt$Freq[53:56]/sum(pt$Freq[53:56])\n",
    "                  )\n",
    "pt\n",
    "pt\n",
    "\n",
    "my_levels2 <- c()\n",
    "factor(pt$cellType, levels= my_levels2)\n",
    "pt$cellType <- factor(pt$cellType, levels= my_levels2)\n",
    "#pdf(\"plots/project_ABRPercentSubcluster_byReplicate_DATE.pdf\")\n",
    "ggplot(pt, aes(x = Sample, y = Percentage, fill = cellType, label=round(Percentage,2))) +\n",
    "    geom_bar(stat=\"identity\") +\n",
    "    geom_text(size=3, position=position_stack(vjust=0.5))\n",
    "#dev.off()"
   ]
  },
  {
   "cell_type": "code",
   "execution_count": null,
   "metadata": {},
   "outputs": [],
   "source": [
    "# Save cell type object with subtype labels\n",
    "saveRDS(ABR, \"project_CELLTYPESubclusters_DATE.rds\")\n",
    "#ABR <- readRDS(\"project_CELLTYPESubclusters_DATE.rds\")"
   ]
  }
 ],
 "metadata": {
  "kernelspec": {
   "display_name": "R",
   "language": "R",
   "name": "ir"
  },
  "language_info": {
   "codemirror_mode": "r",
   "file_extension": ".r",
   "mimetype": "text/x-r-source",
   "name": "R",
   "pygments_lexer": "r",
   "version": "3.6.1"
  }
 },
 "nbformat": 4,
 "nbformat_minor": 4
}
